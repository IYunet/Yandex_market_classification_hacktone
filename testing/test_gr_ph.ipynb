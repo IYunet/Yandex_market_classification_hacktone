{
 "cells": [
  {
   "cell_type": "code",
   "execution_count": 51,
   "id": "4ae78b76-18cc-4224-b1c7-d7a3b25756bf",
   "metadata": {
    "tags": []
   },
   "outputs": [],
   "source": [
    "import pandas as pd\n",
    "import numpy as np\n",
    "import os\n",
    "from PIL import Image\n",
    "from tqdm import tqdm\n",
    "import requests\n",
    "from io import BytesIO\n",
    "\n",
    "from torchvision.models import vgg16_bn, VGG16_BN_Weights\n",
    "import torch\n",
    "from torch import nn"
   ]
  },
  {
   "cell_type": "code",
   "execution_count": 78,
   "id": "cccc9326-c7c0-4836-8610-b135a782cf19",
   "metadata": {
    "tags": []
   },
   "outputs": [],
   "source": [
    "def load_picture(link):\n",
    "    image_url = \"https://\" + link\n",
    "    response = requests.get(image_url)\n",
    "\n",
    "    if response.status_code == 200:\n",
    "        image_data = response.content\n",
    "        image = Image.open(BytesIO(image_data)).convert(\"RGB\")\n",
    "        return image\n",
    "    else:\n",
    "        raise Exception\n",
    "\n",
    "\n",
    "def make_rediction(link, model, device):\n",
    "\n",
    "    LABELS = {\n",
    "        0: \"clean_photo\",\n",
    "        1: \"infographics\"\n",
    "    }\n",
    "\n",
    "    image = load_picture(link)\n",
    "    transform = VGG16_BN_Weights.DEFAULT.transforms()\n",
    "    image = transform(image).to(device).unsqueeze(0)\n",
    "\n",
    "    model.eval()\n",
    "    logits = model(image)\n",
    "    probabilities = torch.softmax(logits, dim=1)\n",
    "    predicted_class = torch.argmax(probabilities).item()\n",
    "\n",
    "    return LABELS[predicted_class]"
   ]
  },
  {
   "cell_type": "code",
   "execution_count": 53,
   "id": "215e200c-6132-4a01-81bc-f08ca703e55b",
   "metadata": {},
   "outputs": [
    {
     "data": {
      "text/html": [
       "<div>\n",
       "<style scoped>\n",
       "    .dataframe tbody tr th:only-of-type {\n",
       "        vertical-align: middle;\n",
       "    }\n",
       "\n",
       "    .dataframe tbody tr th {\n",
       "        vertical-align: top;\n",
       "    }\n",
       "\n",
       "    .dataframe thead th {\n",
       "        text-align: right;\n",
       "    }\n",
       "</style>\n",
       "<table border=\"1\" class=\"dataframe\">\n",
       "  <thead>\n",
       "    <tr style=\"text-align: right;\">\n",
       "      <th></th>\n",
       "      <th>pic_url</th>\n",
       "      <th>verdict</th>\n",
       "    </tr>\n",
       "  </thead>\n",
       "  <tbody>\n",
       "    <tr>\n",
       "      <th>0</th>\n",
       "      <td>avatars.mds.yandex.net/get-marketpic/7044394/p...</td>\n",
       "      <td>clean_photo</td>\n",
       "    </tr>\n",
       "    <tr>\n",
       "      <th>1</th>\n",
       "      <td>avatars.mds.yandex.net/get-marketpic/5620596/p...</td>\n",
       "      <td>clean_photo</td>\n",
       "    </tr>\n",
       "    <tr>\n",
       "      <th>2</th>\n",
       "      <td>avatars.mds.yandex.net/get-marketpic/1708436/m...</td>\n",
       "      <td>infographics</td>\n",
       "    </tr>\n",
       "    <tr>\n",
       "      <th>3</th>\n",
       "      <td>avatars.mds.yandex.net/get-marketpic/1897710/p...</td>\n",
       "      <td>clean_photo</td>\n",
       "    </tr>\n",
       "    <tr>\n",
       "      <th>4</th>\n",
       "      <td>avatars.mds.yandex.net/get-marketpic/8786714/p...</td>\n",
       "      <td>infographics</td>\n",
       "    </tr>\n",
       "  </tbody>\n",
       "</table>\n",
       "</div>"
      ],
      "text/plain": [
       "                                             pic_url       verdict\n",
       "0  avatars.mds.yandex.net/get-marketpic/7044394/p...   clean_photo\n",
       "1  avatars.mds.yandex.net/get-marketpic/5620596/p...   clean_photo\n",
       "2  avatars.mds.yandex.net/get-marketpic/1708436/m...  infographics\n",
       "3  avatars.mds.yandex.net/get-marketpic/1897710/p...   clean_photo\n",
       "4  avatars.mds.yandex.net/get-marketpic/8786714/p...  infographics"
      ]
     },
     "execution_count": 53,
     "metadata": {},
     "output_type": "execute_result"
    }
   ],
   "source": [
    "df = pd.read_csv(\"../datasets/original_df_for_binary.csv\")\n",
    "df.head()"
   ]
  },
  {
   "cell_type": "code",
   "execution_count": 82,
   "id": "2aa8c2ae-e8cc-43e9-be61-33ee648178cc",
   "metadata": {
    "tags": []
   },
   "outputs": [
    {
     "data": {
      "text/plain": [
       "'avatars.mds.yandex.net/get-marketpic/6097271/pica6718806c7874f7032ed7bb6ff17ed32/orig'"
      ]
     },
     "execution_count": 82,
     "metadata": {},
     "output_type": "execute_result"
    }
   ],
   "source": [
    "df.iloc[23][0]"
   ]
  },
  {
   "cell_type": "code",
   "execution_count": 79,
   "id": "25069f41-4e04-41bd-9ccf-f0850c968b2e",
   "metadata": {
    "tags": []
   },
   "outputs": [
    {
     "name": "stderr",
     "output_type": "stream",
     "text": [
      "/Users/yunet/anaconda3/envs/mo_1/lib/python3.10/site-packages/torch/nn/modules/container.py:217: UserWarning: Implicit dimension choice for softmax has been deprecated. Change the call to include dim=X as an argument.\n",
      "  input = module(input)\n"
     ]
    },
    {
     "name": "stdout",
     "output_type": "stream",
     "text": [
      "clean_photo clean_photo\n",
      "clean_photo clean_photo\n",
      "infographics infographics\n",
      "clean_photo clean_photo\n",
      "infographics infographics\n",
      "infographics clean_photo\n",
      "infographics infographics\n",
      "clean_photo clean_photo\n",
      "infographics infographics\n",
      "clean_photo clean_photo\n"
     ]
    }
   ],
   "source": [
    "device = torch.device('cuda:0' if torch.cuda.is_available() else 'cpu')\n",
    "\n",
    "model = vgg16_bn()\n",
    "model.classifier = nn.Sequential(\n",
    "    nn.Linear(25088, 100),\n",
    "    nn.Softmax(),\n",
    "    nn.Linear(100, 2)\n",
    ")\n",
    "\n",
    "model.load_state_dict(torch.load('../models/model_gr_or_ph.pth', map_location=torch.device(device)))\n",
    "model = model.to(device)\n",
    "\n",
    "# link = df.iloc[0][0]\n",
    "# make_rediction(link, model, device)\n",
    "\n",
    "for i in range(10):\n",
    "    link = df.iloc[i][0]\n",
    "    lable = df.iloc[i][1]\n",
    "    print(make_rediction(link, model, device), lable)"
   ]
  },
  {
   "cell_type": "code",
   "execution_count": 40,
   "id": "4600b071-6a3b-4a0d-bdf6-cefd4f0ef809",
   "metadata": {
    "tags": []
   },
   "outputs": [
    {
     "name": "stdout",
     "output_type": "stream",
     "text": [
      "Collecting Flask\n",
      "  Downloading Flask-2.3.2-py3-none-any.whl (96 kB)\n",
      "\u001B[2K     \u001B[90m━━━━━━━━━━━━━━━━━━━━━━━━━━━━━━━━━━━━━━━━\u001B[0m \u001B[32m96.9/96.9 kB\u001B[0m \u001B[31m1.6 MB/s\u001B[0m eta \u001B[36m0:00:00\u001B[0ma \u001B[36m0:00:01\u001B[0m\n",
      "\u001B[?25hCollecting Werkzeug>=2.3.3 (from Flask)\n",
      "  Downloading werkzeug-2.3.7-py3-none-any.whl (242 kB)\n",
      "\u001B[2K     \u001B[90m━━━━━━━━━━━━━━━━━━━━━━━━━━━━━━━━━━━━━━━\u001B[0m \u001B[32m242.2/242.2 kB\u001B[0m \u001B[31m3.5 MB/s\u001B[0m eta \u001B[36m0:00:00\u001B[0ma \u001B[36m0:00:01\u001B[0m\n",
      "\u001B[?25hRequirement already satisfied: Jinja2>=3.1.2 in /Users/yunet/anaconda3/envs/mo_1/lib/python3.10/site-packages (from Flask) (3.1.2)\n",
      "Collecting itsdangerous>=2.1.2 (from Flask)\n",
      "  Downloading itsdangerous-2.1.2-py3-none-any.whl (15 kB)\n",
      "Requirement already satisfied: click>=8.1.3 in /Users/yunet/anaconda3/envs/mo_1/lib/python3.10/site-packages (from Flask) (8.1.6)\n",
      "Collecting blinker>=1.6.2 (from Flask)\n",
      "  Downloading blinker-1.6.2-py3-none-any.whl (13 kB)\n",
      "Requirement already satisfied: MarkupSafe>=2.0 in /Users/yunet/anaconda3/envs/mo_1/lib/python3.10/site-packages (from Jinja2>=3.1.2->Flask) (2.1.1)\n",
      "Installing collected packages: Werkzeug, itsdangerous, blinker, Flask\n",
      "Successfully installed Flask-2.3.2 Werkzeug-2.3.7 blinker-1.6.2 itsdangerous-2.1.2\n"
     ]
    }
   ],
   "source": [
    "!pip install Flask"
   ]
  },
  {
   "cell_type": "code",
   "execution_count": 60,
   "id": "b7c50343-ef6b-4b9c-a96e-bc41cfbbe1de",
   "metadata": {
    "tags": []
   },
   "outputs": [
    {
     "name": "stdout",
     "output_type": "stream",
     "text": [
      " * Serving Flask app '__main__'\n",
      " * Debug mode: off\n"
     ]
    },
    {
     "name": "stderr",
     "output_type": "stream",
     "text": [
      "WARNING: This is a development server. Do not use it in a production deployment. Use a production WSGI server instead.\n",
      " * Running on http://127.0.0.1:2345\n",
      "Press CTRL+C to quit\n",
      "127.0.0.1 - - [14/Aug/2023 15:15:12] \"GET /?link=fd HTTP/1.1\" 200 -\n",
      "127.0.0.1 - - [14/Aug/2023 15:15:35] \"GET /?link=avatars.mds.yandex.net/get-marketpic/4474934/pica5eb45a3d473199e81ce08c251c65109/orig HTTP/1.1\" 200 -\n"
     ]
    }
   ],
   "source": [
    "from flask import Flask, request\n",
    "\n",
    "app = Flask(__name__)\n",
    "\n",
    "@app.route('/')\n",
    "def hello():\n",
    "    link = request.args.get('link')  # Получаем значение параметра 'name' из URL\n",
    "    try:\n",
    "        r = make_rediction(link, model, device)\n",
    "        return r\n",
    "    except Exception as e:\n",
    "        return f\"Неверная ссылка, ошибка: \\n {e}\"\n",
    "\n",
    "\n",
    "if __name__ == '__main__':\n",
    "    app.run(port=2345)"
   ]
  },
  {
   "cell_type": "code",
   "execution_count": 75,
   "id": "aba3f3c1-060f-46a2-985f-88ac032dbfab",
   "metadata": {
    "tags": []
   },
   "outputs": [
    {
     "name": "stdout",
     "output_type": "stream",
     "text": [
      "Note: you may need to restart the kernel to use updated packages.\n"
     ]
    }
   ],
   "source": [
    "%pip freeze | grep -E 'requests' > requirements.txt"
   ]
  },
  {
   "cell_type": "code",
   "execution_count": 76,
   "id": "a2ce07d0-552c-4240-aa91-f8aafffd1bf6",
   "metadata": {
    "tags": []
   },
   "outputs": [
    {
     "data": {
      "text/plain": [
       "'9.4.0'"
      ]
     },
     "execution_count": 76,
     "metadata": {},
     "output_type": "execute_result"
    }
   ],
   "source": [
    "import PIL\n",
    "PIL.__version__"
   ]
  },
  {
   "cell_type": "code",
   "execution_count": 77,
   "id": "55eb7e49-86a7-46ad-b812-469fc55562e5",
   "metadata": {
    "tags": []
   },
   "outputs": [
    {
     "data": {
      "text/plain": [
       "'2.29.0'"
      ]
     },
     "execution_count": 77,
     "metadata": {},
     "output_type": "execute_result"
    }
   ],
   "source": [
    "requests.__version__"
   ]
  }
 ],
 "metadata": {
  "kernelspec": {
   "display_name": "Python 3 (ipykernel)",
   "language": "python",
   "name": "python3"
  },
  "language_info": {
   "codemirror_mode": {
    "name": "ipython",
    "version": 3
   },
   "file_extension": ".py",
   "mimetype": "text/x-python",
   "name": "python",
   "nbconvert_exporter": "python",
   "pygments_lexer": "ipython3",
   "version": "3.10.12"
  }
 },
 "nbformat": 4,
 "nbformat_minor": 5
}
