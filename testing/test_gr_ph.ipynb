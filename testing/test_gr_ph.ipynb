{
 "cells": [
  {
   "cell_type": "code",
   "execution_count": 83,
   "id": "4ae78b76-18cc-4224-b1c7-d7a3b25756bf",
   "metadata": {
    "tags": []
   },
   "outputs": [],
   "source": [
    "import pandas as pd\n",
    "import requests\n",
    "from io import BytesIO\n",
    "\n",
    "from torchvision.models import vgg16_bn, VGG16_BN_Weights\n",
    "import torch\n",
    "from torch import nn"
   ]
  },
  {
   "cell_type": "code",
   "execution_count": 84,
   "id": "cccc9326-c7c0-4836-8610-b135a782cf19",
   "metadata": {
    "tags": []
   },
   "outputs": [],
   "source": [
    "def load_picture(link):\n",
    "    image_url = \"https://\" + link\n",
    "    response = requests.get(image_url)\n",
    "\n",
    "    if response.status_code == 200:\n",
    "        image_data = response.content\n",
    "        image = Image.open(BytesIO(image_data)).convert(\"RGB\")\n",
    "        return image\n",
    "    else:\n",
    "        raise Exception\n",
    "\n",
    "\n",
    "def make_rediction(link, model, device):\n",
    "\n",
    "    LABELS = {\n",
    "        0: \"clean_photo\",\n",
    "        1: \"infographics\"\n",
    "    }\n",
    "\n",
    "    image = load_picture(link)\n",
    "    transform = VGG16_BN_Weights.DEFAULT.transforms()\n",
    "    image = transform(image).to(device).unsqueeze(0)\n",
    "\n",
    "    model.eval()\n",
    "    logits = model(image)\n",
    "    probabilities = torch.softmax(logits, dim=1)\n",
    "    predicted_class = torch.argmax(probabilities).item()\n",
    "\n",
    "    return LABELS[predicted_class]"
   ]
  },
  {
   "cell_type": "code",
   "execution_count": 85,
   "id": "215e200c-6132-4a01-81bc-f08ca703e55b",
   "metadata": {},
   "outputs": [
    {
     "data": {
      "text/html": [
       "<div>\n",
       "<style scoped>\n",
       "    .dataframe tbody tr th:only-of-type {\n",
       "        vertical-align: middle;\n",
       "    }\n",
       "\n",
       "    .dataframe tbody tr th {\n",
       "        vertical-align: top;\n",
       "    }\n",
       "\n",
       "    .dataframe thead th {\n",
       "        text-align: right;\n",
       "    }\n",
       "</style>\n",
       "<table border=\"1\" class=\"dataframe\">\n",
       "  <thead>\n",
       "    <tr style=\"text-align: right;\">\n",
       "      <th></th>\n",
       "      <th>pic_url</th>\n",
       "      <th>verdict</th>\n",
       "    </tr>\n",
       "  </thead>\n",
       "  <tbody>\n",
       "    <tr>\n",
       "      <th>0</th>\n",
       "      <td>avatars.mds.yandex.net/get-marketpic/7044394/p...</td>\n",
       "      <td>clean_photo</td>\n",
       "    </tr>\n",
       "    <tr>\n",
       "      <th>1</th>\n",
       "      <td>avatars.mds.yandex.net/get-marketpic/5620596/p...</td>\n",
       "      <td>clean_photo</td>\n",
       "    </tr>\n",
       "    <tr>\n",
       "      <th>2</th>\n",
       "      <td>avatars.mds.yandex.net/get-marketpic/1708436/m...</td>\n",
       "      <td>infographics</td>\n",
       "    </tr>\n",
       "    <tr>\n",
       "      <th>3</th>\n",
       "      <td>avatars.mds.yandex.net/get-marketpic/1897710/p...</td>\n",
       "      <td>clean_photo</td>\n",
       "    </tr>\n",
       "    <tr>\n",
       "      <th>4</th>\n",
       "      <td>avatars.mds.yandex.net/get-marketpic/8786714/p...</td>\n",
       "      <td>infographics</td>\n",
       "    </tr>\n",
       "  </tbody>\n",
       "</table>\n",
       "</div>"
      ],
      "text/plain": [
       "                                             pic_url       verdict\n",
       "0  avatars.mds.yandex.net/get-marketpic/7044394/p...   clean_photo\n",
       "1  avatars.mds.yandex.net/get-marketpic/5620596/p...   clean_photo\n",
       "2  avatars.mds.yandex.net/get-marketpic/1708436/m...  infographics\n",
       "3  avatars.mds.yandex.net/get-marketpic/1897710/p...   clean_photo\n",
       "4  avatars.mds.yandex.net/get-marketpic/8786714/p...  infographics"
      ]
     },
     "execution_count": 85,
     "metadata": {},
     "output_type": "execute_result"
    }
   ],
   "source": [
    "df = pd.read_csv(\"../datasets/original_df_for_binary.csv\")\n",
    "df.head()"
   ]
  },
  {
   "cell_type": "code",
   "execution_count": 86,
   "id": "2aa8c2ae-e8cc-43e9-be61-33ee648178cc",
   "metadata": {
    "tags": []
   },
   "outputs": [
    {
     "data": {
      "text/plain": [
       "'avatars.mds.yandex.net/get-marketpic/6097271/pica6718806c7874f7032ed7bb6ff17ed32/orig'"
      ]
     },
     "execution_count": 86,
     "metadata": {},
     "output_type": "execute_result"
    }
   ],
   "source": [
    "df.iloc[23][0]"
   ]
  },
  {
   "cell_type": "code",
   "execution_count": 87,
   "id": "25069f41-4e04-41bd-9ccf-f0850c968b2e",
   "metadata": {
    "tags": []
   },
   "outputs": [
    {
     "name": "stderr",
     "output_type": "stream",
     "text": [
      "/Users/yunet/anaconda3/envs/mo_1/lib/python3.10/site-packages/torch/nn/modules/container.py:217: UserWarning: Implicit dimension choice for softmax has been deprecated. Change the call to include dim=X as an argument.\n",
      "  input = module(input)\n"
     ]
    },
    {
     "name": "stdout",
     "output_type": "stream",
     "text": [
      "clean_photo clean_photo\n",
      "clean_photo clean_photo\n",
      "infographics infographics\n",
      "clean_photo clean_photo\n",
      "infographics infographics\n",
      "infographics clean_photo\n",
      "infographics infographics\n",
      "clean_photo clean_photo\n",
      "infographics infographics\n",
      "clean_photo clean_photo\n"
     ]
    }
   ],
   "source": [
    "device = torch.device('cuda:0' if torch.cuda.is_available() else 'cpu')\n",
    "\n",
    "model = vgg16_bn()\n",
    "model.classifier = nn.Sequential(\n",
    "    nn.Linear(25088, 100),\n",
    "    nn.Softmax(),\n",
    "    nn.Linear(100, 2)\n",
    ")\n",
    "\n",
    "model.load_state_dict(torch.load('../models/model_gr_or_ph.pth', map_location=torch.device(device)))\n",
    "model = model.to(device)\n",
    "\n",
    "# link = df.iloc[0][0]\n",
    "# make_rediction(link, model, device)\n",
    "\n",
    "for i in range(10):\n",
    "    link = df.iloc[i][0]\n",
    "    lable = df.iloc[i][1]\n",
    "    print(make_rediction(link, model, device), lable)"
   ]
  },
  {
   "cell_type": "code",
   "execution_count": null,
   "id": "6869adf0-3ad4-4d8c-8dc9-2b82c4520f52",
   "metadata": {},
   "outputs": [],
   "source": []
  }
 ],
 "metadata": {
  "kernelspec": {
   "display_name": "Python 3 (ipykernel)",
   "language": "python",
   "name": "python3"
  },
  "language_info": {
   "codemirror_mode": {
    "name": "ipython",
    "version": 3
   },
   "file_extension": ".py",
   "mimetype": "text/x-python",
   "name": "python",
   "nbconvert_exporter": "python",
   "pygments_lexer": "ipython3",
   "version": "3.10.12"
  }
 },
 "nbformat": 4,
 "nbformat_minor": 5
}
