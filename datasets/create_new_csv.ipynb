{
 "cells": [
  {
   "cell_type": "code",
   "execution_count": 23,
   "id": "5088ae5d",
   "metadata": {
    "cellId": "2iuelixjrhlv4ydfn7og7"
   },
   "outputs": [
    {
     "data": {
      "text/html": [
       "<div>\n",
       "<style scoped>\n",
       "    .dataframe tbody tr th:only-of-type {\n",
       "        vertical-align: middle;\n",
       "    }\n",
       "\n",
       "    .dataframe tbody tr th {\n",
       "        vertical-align: top;\n",
       "    }\n",
       "\n",
       "    .dataframe thead th {\n",
       "        text-align: right;\n",
       "    }\n",
       "</style>\n",
       "<table border=\"1\" class=\"dataframe\">\n",
       "  <thead>\n",
       "    <tr style=\"text-align: right;\">\n",
       "      <th></th>\n",
       "      <th>pic_url</th>\n",
       "      <th>verdict</th>\n",
       "    </tr>\n",
       "  </thead>\n",
       "  <tbody>\n",
       "    <tr>\n",
       "      <th>0</th>\n",
       "      <td>avatars.mds.yandex.net/get-marketpic/7044394/p...</td>\n",
       "      <td>clean_photo_good_background</td>\n",
       "    </tr>\n",
       "    <tr>\n",
       "      <th>1</th>\n",
       "      <td>avatars.mds.yandex.net/get-marketpic/5620596/p...</td>\n",
       "      <td>clean_photo_good_background</td>\n",
       "    </tr>\n",
       "    <tr>\n",
       "      <th>2</th>\n",
       "      <td>avatars.mds.yandex.net/get-marketpic/1708436/m...</td>\n",
       "      <td>other_infographics</td>\n",
       "    </tr>\n",
       "    <tr>\n",
       "      <th>3</th>\n",
       "      <td>avatars.mds.yandex.net/get-marketpic/1897710/p...</td>\n",
       "      <td>clean_photo_good_background</td>\n",
       "    </tr>\n",
       "    <tr>\n",
       "      <th>4</th>\n",
       "      <td>avatars.mds.yandex.net/get-marketpic/8786714/p...</td>\n",
       "      <td>good_infographics</td>\n",
       "    </tr>\n",
       "  </tbody>\n",
       "</table>\n",
       "</div>"
      ],
      "text/plain": [
       "                                             pic_url                      verdict\n",
       "0  avatars.mds.yandex.net/get-marketpic/7044394/p...  clean_photo_good_background\n",
       "1  avatars.mds.yandex.net/get-marketpic/5620596/p...  clean_photo_good_background\n",
       "2  avatars.mds.yandex.net/get-marketpic/1708436/m...           other_infographics\n",
       "3  avatars.mds.yandex.net/get-marketpic/1897710/p...  clean_photo_good_background\n",
       "4  avatars.mds.yandex.net/get-marketpic/8786714/p...            good_infographics"
      ]
     },
     "execution_count": 23,
     "metadata": {},
     "output_type": "execute_result"
    }
   ],
   "source": [
    "#!c1.8\n",
    "import pandas as pd\n",
    "import os\n",
    "import requests\n",
    "from PIL import Image\n",
    "from io import BytesIO\n",
    "from tqdm import tqdm\n",
    "import warnings\n",
    "warnings.filterwarnings('ignore')\n",
    "\n",
    "input_file = \"/home/jupyter/work/resources/data.csv\"\n",
    "df = pd.read_csv(input_file).drop(columns=[\"market_sku_id\"])\n",
    "df.head()"
   ]
  },
  {
   "cell_type": "code",
   "execution_count": 24,
   "id": "b9b116c2",
   "metadata": {
    "cellId": "11b1bcuzhrgayg5hy66tb",
    "execution_id": "00c8424c-c6cd-4dd7-a542-4fd472421aaf"
   },
   "outputs": [
    {
     "name": "stderr",
     "output_type": "stream",
     "text": [
      "100%|██████████| 1131832/1131832 [23:50:36<00:00, 13.19it/s]\n"
     ]
    }
   ],
   "source": [
    "#!c1.8\n",
    "\n",
    "def download_pic(idx, link, verdict, new_df):\n",
    "    try:\n",
    "        # URL изображения для загрузки\n",
    "        image_url = \"https://\" + link\n",
    "\n",
    "        # Загружаем изображение\n",
    "        response = requests.get(image_url)\n",
    "        if response.status_code == 200:\n",
    "            image_data = BytesIO(response.content)\n",
    "            img = Image.open(image_data)\n",
    "            img = img.convert(\"RGB\")\n",
    "            save_path = os.path.join(\"/home/jupyter/mnt/datasets/pic\", \"pic_\" + str(idx) + \".jpg\")\n",
    "            new_df = new_df.append({'path': save_path, 'verdict': verdict}, ignore_index=True)\n",
    "            return new_df\n",
    "        else:\n",
    "            return new_df\n",
    "    except Exception as e:\n",
    "        return new_df\n",
    "\n",
    "new_df = pd.DataFrame({'path': [], 'verdict': []})\n",
    "for i in tqdm(range(df.shape[0])):\n",
    "    row = df.loc[i]\n",
    "    new_df = download_pic(i, row[0], row[1], new_df)\n",
    "\n",
    "new_df.to_csv(\"correct_data.csv\", index=False)"
   ]
  }
 ],
 "metadata": {
  "kernelspec": {
   "display_name": "Python 3 (ipykernel)",
   "language": "python",
   "name": "python3"
  },
  "language_info": {
   "codemirror_mode": {
    "name": "ipython",
    "version": 3
   },
   "file_extension": ".py",
   "mimetype": "text/x-python",
   "name": "python",
   "nbconvert_exporter": "python",
   "pygments_lexer": "ipython3",
   "version": "3.10.12"
  },
  "notebookId": "d2b35914-1fe1-444f-b668-dfea9eec5fac",
  "notebookPath": "create_new_csv.ipynb"
 },
 "nbformat": 4,
 "nbformat_minor": 5
}
