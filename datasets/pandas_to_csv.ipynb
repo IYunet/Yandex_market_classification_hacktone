{
 "cells": [
  {
   "cell_type": "code",
   "execution_count": 258,
   "id": "5bd4ca00-1c99-4db8-ab5c-8123cc4907c0",
   "metadata": {
    "tags": []
   },
   "outputs": [],
   "source": [
    "import pandas as pd\n",
    "from tqdm import tqdm"
   ]
  },
  {
   "cell_type": "markdown",
   "id": "4a787a9c-e7c1-40d3-9536-f43a0486c75a",
   "metadata": {},
   "source": [
    "#### Разметка оригинального датасета на бинарную классификацию"
   ]
  },
  {
   "cell_type": "code",
   "execution_count": 266,
   "id": "b8a63284-fd3c-41a5-ac0b-b53e558df2d1",
   "metadata": {
    "tags": []
   },
   "outputs": [
    {
     "data": {
      "text/html": [
       "<div>\n",
       "<style scoped>\n",
       "    .dataframe tbody tr th:only-of-type {\n",
       "        vertical-align: middle;\n",
       "    }\n",
       "\n",
       "    .dataframe tbody tr th {\n",
       "        vertical-align: top;\n",
       "    }\n",
       "\n",
       "    .dataframe thead th {\n",
       "        text-align: right;\n",
       "    }\n",
       "</style>\n",
       "<table border=\"1\" class=\"dataframe\">\n",
       "  <thead>\n",
       "    <tr style=\"text-align: right;\">\n",
       "      <th></th>\n",
       "      <th>market_sku_id</th>\n",
       "      <th>pic_url</th>\n",
       "      <th>verdict</th>\n",
       "    </tr>\n",
       "  </thead>\n",
       "  <tbody>\n",
       "    <tr>\n",
       "      <th>0</th>\n",
       "      <td>1402035435</td>\n",
       "      <td>avatars.mds.yandex.net/get-marketpic/7044394/p...</td>\n",
       "      <td>clean_photo_good_background</td>\n",
       "    </tr>\n",
       "    <tr>\n",
       "      <th>1</th>\n",
       "      <td>1402035435</td>\n",
       "      <td>avatars.mds.yandex.net/get-marketpic/5620596/p...</td>\n",
       "      <td>clean_photo_good_background</td>\n",
       "    </tr>\n",
       "    <tr>\n",
       "      <th>2</th>\n",
       "      <td>1402035435</td>\n",
       "      <td>avatars.mds.yandex.net/get-marketpic/1708436/m...</td>\n",
       "      <td>other_infographics</td>\n",
       "    </tr>\n",
       "    <tr>\n",
       "      <th>3</th>\n",
       "      <td>729239006</td>\n",
       "      <td>avatars.mds.yandex.net/get-marketpic/1897710/p...</td>\n",
       "      <td>clean_photo_good_background</td>\n",
       "    </tr>\n",
       "    <tr>\n",
       "      <th>4</th>\n",
       "      <td>429050296</td>\n",
       "      <td>avatars.mds.yandex.net/get-marketpic/8786714/p...</td>\n",
       "      <td>good_infographics</td>\n",
       "    </tr>\n",
       "  </tbody>\n",
       "</table>\n",
       "</div>"
      ],
      "text/plain": [
       "   market_sku_id                                            pic_url  \\\n",
       "0     1402035435  avatars.mds.yandex.net/get-marketpic/7044394/p...   \n",
       "1     1402035435  avatars.mds.yandex.net/get-marketpic/5620596/p...   \n",
       "2     1402035435  avatars.mds.yandex.net/get-marketpic/1708436/m...   \n",
       "3      729239006  avatars.mds.yandex.net/get-marketpic/1897710/p...   \n",
       "4      429050296  avatars.mds.yandex.net/get-marketpic/8786714/p...   \n",
       "\n",
       "                       verdict  \n",
       "0  clean_photo_good_background  \n",
       "1  clean_photo_good_background  \n",
       "2           other_infographics  \n",
       "3  clean_photo_good_background  \n",
       "4            good_infographics  "
      ]
     },
     "execution_count": 266,
     "metadata": {},
     "output_type": "execute_result"
    }
   ],
   "source": [
    "original_df = pd.read_csv(\"data.csv\")\n",
    "original_df.head()"
   ]
  },
  {
   "cell_type": "code",
   "execution_count": 267,
   "id": "8616f7db-f303-4cc1-8616-96a6c6c88563",
   "metadata": {
    "tags": []
   },
   "outputs": [
    {
     "name": "stderr",
     "output_type": "stream",
     "text": [
      "100%|██████████| 1131832/1131832 [00:00<00:00, 2527775.05it/s]\n"
     ]
    },
    {
     "data": {
      "text/plain": [
       "infographics    571194\n",
       "clean_photo     560638\n",
       "Name: verdict, dtype: int64"
      ]
     },
     "execution_count": 267,
     "metadata": {},
     "output_type": "execute_result"
    }
   ],
   "source": [
    "new_label_name = {\n",
    "    'clean_photo_good_background': 'clean_photo', \n",
    "    'other_infographics': \"infographics\",\n",
    "    'good_infographics': \"infographics\", \n",
    "    'clean_photo_other_background': \"clean_photo\",\n",
    "    'bad_infographics': \"infographics\", \n",
    "    'clean_photo_bad_background': 'clean_photo',\n",
    "    'clean_photo_image_background': 'clean_photo'\n",
    "}\n",
    "tqdm.pandas()\n",
    "\n",
    "original_df[\"verdict\"] = original_df.verdict.progress_apply(lambda x: new_label_name[x]).drop(columns=[\"market_sku_id\"])\n",
    "original_df.verdict.value_counts()"
   ]
  },
  {
   "cell_type": "code",
   "execution_count": 268,
   "id": "a4173acc-df10-4ef6-9fd8-79d29873f173",
   "metadata": {
    "tags": []
   },
   "outputs": [
    {
     "data": {
      "text/html": [
       "<div>\n",
       "<style scoped>\n",
       "    .dataframe tbody tr th:only-of-type {\n",
       "        vertical-align: middle;\n",
       "    }\n",
       "\n",
       "    .dataframe tbody tr th {\n",
       "        vertical-align: top;\n",
       "    }\n",
       "\n",
       "    .dataframe thead th {\n",
       "        text-align: right;\n",
       "    }\n",
       "</style>\n",
       "<table border=\"1\" class=\"dataframe\">\n",
       "  <thead>\n",
       "    <tr style=\"text-align: right;\">\n",
       "      <th></th>\n",
       "      <th>market_sku_id</th>\n",
       "      <th>pic_url</th>\n",
       "      <th>verdict</th>\n",
       "    </tr>\n",
       "  </thead>\n",
       "  <tbody>\n",
       "    <tr>\n",
       "      <th>0</th>\n",
       "      <td>1402035435</td>\n",
       "      <td>avatars.mds.yandex.net/get-marketpic/7044394/p...</td>\n",
       "      <td>clean_photo</td>\n",
       "    </tr>\n",
       "    <tr>\n",
       "      <th>1</th>\n",
       "      <td>1402035435</td>\n",
       "      <td>avatars.mds.yandex.net/get-marketpic/5620596/p...</td>\n",
       "      <td>clean_photo</td>\n",
       "    </tr>\n",
       "    <tr>\n",
       "      <th>2</th>\n",
       "      <td>1402035435</td>\n",
       "      <td>avatars.mds.yandex.net/get-marketpic/1708436/m...</td>\n",
       "      <td>infographics</td>\n",
       "    </tr>\n",
       "    <tr>\n",
       "      <th>3</th>\n",
       "      <td>729239006</td>\n",
       "      <td>avatars.mds.yandex.net/get-marketpic/1897710/p...</td>\n",
       "      <td>clean_photo</td>\n",
       "    </tr>\n",
       "    <tr>\n",
       "      <th>4</th>\n",
       "      <td>429050296</td>\n",
       "      <td>avatars.mds.yandex.net/get-marketpic/8786714/p...</td>\n",
       "      <td>infographics</td>\n",
       "    </tr>\n",
       "  </tbody>\n",
       "</table>\n",
       "</div>"
      ],
      "text/plain": [
       "   market_sku_id                                            pic_url  \\\n",
       "0     1402035435  avatars.mds.yandex.net/get-marketpic/7044394/p...   \n",
       "1     1402035435  avatars.mds.yandex.net/get-marketpic/5620596/p...   \n",
       "2     1402035435  avatars.mds.yandex.net/get-marketpic/1708436/m...   \n",
       "3      729239006  avatars.mds.yandex.net/get-marketpic/1897710/p...   \n",
       "4      429050296  avatars.mds.yandex.net/get-marketpic/8786714/p...   \n",
       "\n",
       "        verdict  \n",
       "0   clean_photo  \n",
       "1   clean_photo  \n",
       "2  infographics  \n",
       "3   clean_photo  \n",
       "4  infographics  "
      ]
     },
     "execution_count": 268,
     "metadata": {},
     "output_type": "execute_result"
    }
   ],
   "source": [
    "original_df.head()"
   ]
  },
  {
   "cell_type": "markdown",
   "id": "48963cfc-0bc6-46e9-a88b-869e5eef2fd0",
   "metadata": {},
   "source": [
    "#### Оставили только рабочие ссылки и получили csv\n",
    "\n",
    "(полный код в create_new_csv.ipynb, это делали делали в облаке, результат сохранен в data_correct.csv)"
   ]
  },
  {
   "cell_type": "code",
   "execution_count": 98,
   "id": "d6b40c6e-5061-4dc4-beb4-59c95965628b",
   "metadata": {
    "tags": []
   },
   "outputs": [
    {
     "name": "stdout",
     "output_type": "stream",
     "text": [
      "(1104969, 2)\n"
     ]
    },
    {
     "data": {
      "text/html": [
       "<div>\n",
       "<style scoped>\n",
       "    .dataframe tbody tr th:only-of-type {\n",
       "        vertical-align: middle;\n",
       "    }\n",
       "\n",
       "    .dataframe tbody tr th {\n",
       "        vertical-align: top;\n",
       "    }\n",
       "\n",
       "    .dataframe thead th {\n",
       "        text-align: right;\n",
       "    }\n",
       "</style>\n",
       "<table border=\"1\" class=\"dataframe\">\n",
       "  <thead>\n",
       "    <tr style=\"text-align: right;\">\n",
       "      <th></th>\n",
       "      <th>path</th>\n",
       "      <th>verdict</th>\n",
       "    </tr>\n",
       "  </thead>\n",
       "  <tbody>\n",
       "    <tr>\n",
       "      <th>0</th>\n",
       "      <td>/home/jupyter/mnt/datasets/pictures/pic_0.jpg</td>\n",
       "      <td>clean_photo_good_background</td>\n",
       "    </tr>\n",
       "    <tr>\n",
       "      <th>1</th>\n",
       "      <td>/home/jupyter/mnt/datasets/pictures/pic_1.jpg</td>\n",
       "      <td>clean_photo_good_background</td>\n",
       "    </tr>\n",
       "    <tr>\n",
       "      <th>2</th>\n",
       "      <td>/home/jupyter/mnt/datasets/pictures/pic_2.jpg</td>\n",
       "      <td>other_infographics</td>\n",
       "    </tr>\n",
       "    <tr>\n",
       "      <th>3</th>\n",
       "      <td>/home/jupyter/mnt/datasets/pictures/pic_3.jpg</td>\n",
       "      <td>clean_photo_good_background</td>\n",
       "    </tr>\n",
       "    <tr>\n",
       "      <th>4</th>\n",
       "      <td>/home/jupyter/mnt/datasets/pictures/pic_4.jpg</td>\n",
       "      <td>good_infographics</td>\n",
       "    </tr>\n",
       "  </tbody>\n",
       "</table>\n",
       "</div>"
      ],
      "text/plain": [
       "                                            path                      verdict\n",
       "0  /home/jupyter/mnt/datasets/pictures/pic_0.jpg  clean_photo_good_background\n",
       "1  /home/jupyter/mnt/datasets/pictures/pic_1.jpg  clean_photo_good_background\n",
       "2  /home/jupyter/mnt/datasets/pictures/pic_2.jpg           other_infographics\n",
       "3  /home/jupyter/mnt/datasets/pictures/pic_3.jpg  clean_photo_good_background\n",
       "4  /home/jupyter/mnt/datasets/pictures/pic_4.jpg            good_infographics"
      ]
     },
     "execution_count": 98,
     "metadata": {},
     "output_type": "execute_result"
    }
   ],
   "source": [
    "correct_links = pd.read_csv(\"data_correct.csv\")\n",
    "print(correct_links.shape)\n",
    "correct_links.head()"
   ]
  },
  {
   "cell_type": "markdown",
   "id": "fe61a303-8d2c-4fad-bc41-4db555a26273",
   "metadata": {
    "tags": []
   },
   "source": [
    "#### Формирование выборки для бинарной классификации: \n",
    "\n",
    "есть ли инфографика или нет инфографики (чистое фото)"
   ]
  },
  {
   "cell_type": "code",
   "execution_count": 99,
   "id": "5038674e-a01b-4fa1-a839-c3e48377811b",
   "metadata": {
    "tags": []
   },
   "outputs": [
    {
     "data": {
      "text/plain": [
       "array(['clean_photo_good_background', 'other_infographics',\n",
       "       'good_infographics', 'clean_photo_other_background',\n",
       "       'bad_infographics', 'clean_photo_bad_background',\n",
       "       'clean_photo_image_background'], dtype=object)"
      ]
     },
     "execution_count": 99,
     "metadata": {},
     "output_type": "execute_result"
    }
   ],
   "source": [
    "label_names = correct_links.verdict.unique()\n",
    "label_names"
   ]
  },
  {
   "cell_type": "code",
   "execution_count": 159,
   "id": "6c3eb64a-3cda-44a5-a895-0a41da333581",
   "metadata": {
    "tags": []
   },
   "outputs": [
    {
     "name": "stderr",
     "output_type": "stream",
     "text": [
      "100%|██████████| 60000/60000 [00:00<00:00, 2226433.58it/s]"
     ]
    },
    {
     "name": "stdout",
     "output_type": "stream",
     "text": [
      "60000\n"
     ]
    },
    {
     "name": "stderr",
     "output_type": "stream",
     "text": [
      "\n"
     ]
    },
    {
     "data": {
      "text/html": [
       "<div>\n",
       "<style scoped>\n",
       "    .dataframe tbody tr th:only-of-type {\n",
       "        vertical-align: middle;\n",
       "    }\n",
       "\n",
       "    .dataframe tbody tr th {\n",
       "        vertical-align: top;\n",
       "    }\n",
       "\n",
       "    .dataframe thead th {\n",
       "        text-align: right;\n",
       "    }\n",
       "</style>\n",
       "<table border=\"1\" class=\"dataframe\">\n",
       "  <thead>\n",
       "    <tr style=\"text-align: right;\">\n",
       "      <th></th>\n",
       "      <th>path</th>\n",
       "      <th>verdict</th>\n",
       "    </tr>\n",
       "  </thead>\n",
       "  <tbody>\n",
       "    <tr>\n",
       "      <th>1070352</th>\n",
       "      <td>/home/jupyter/mnt/datasets/pictures/pic_109643...</td>\n",
       "      <td>infographics</td>\n",
       "    </tr>\n",
       "    <tr>\n",
       "      <th>117919</th>\n",
       "      <td>/home/jupyter/mnt/datasets/pictures/pic_121318...</td>\n",
       "      <td>infographics</td>\n",
       "    </tr>\n",
       "    <tr>\n",
       "      <th>481146</th>\n",
       "      <td>/home/jupyter/mnt/datasets/pictures/pic_495092...</td>\n",
       "      <td>infographics</td>\n",
       "    </tr>\n",
       "    <tr>\n",
       "      <th>1014823</th>\n",
       "      <td>/home/jupyter/mnt/datasets/pictures/pic_103978...</td>\n",
       "      <td>infographics</td>\n",
       "    </tr>\n",
       "    <tr>\n",
       "      <th>294229</th>\n",
       "      <td>/home/jupyter/mnt/datasets/pictures/pic_302544...</td>\n",
       "      <td>infographics</td>\n",
       "    </tr>\n",
       "  </tbody>\n",
       "</table>\n",
       "</div>"
      ],
      "text/plain": [
       "                                                      path       verdict\n",
       "1070352  /home/jupyter/mnt/datasets/pictures/pic_109643...  infographics\n",
       "117919   /home/jupyter/mnt/datasets/pictures/pic_121318...  infographics\n",
       "481146   /home/jupyter/mnt/datasets/pictures/pic_495092...  infographics\n",
       "1014823  /home/jupyter/mnt/datasets/pictures/pic_103978...  infographics\n",
       "294229   /home/jupyter/mnt/datasets/pictures/pic_302544...  infographics"
      ]
     },
     "execution_count": 159,
     "metadata": {},
     "output_type": "execute_result"
    }
   ],
   "source": [
    "new_label_name = {\n",
    "    'clean_photo_good_background': 'clean_photo', \n",
    "    'other_infographics': \"infographics\",\n",
    "    'good_infographics': \"infographics\", \n",
    "    'clean_photo_other_background': \"clean_photo\",\n",
    "    'bad_infographics': \"infographics\", \n",
    "    'clean_photo_bad_background': 'clean_photo',\n",
    "    'clean_photo_image_background': 'clean_photo'\n",
    "}\n",
    "tqdm.pandas()\n",
    "frame_for_binary = correct_links.copy()\n",
    "frame_for_binary\n",
    "\n",
    "\n",
    "name_label_bin = ['other_infographics', 'good_infographics', 'bad_infographics']\n",
    "csv_only_bin = pd.DataFrame({\"path\": [], \"verdict\": []})\n",
    "for name in name_label_bin:\n",
    "    csv_only_bin = pd.concat([ \n",
    "        csv_only_bin,\n",
    "        frame_for_binary[frame_for_binary.verdict == name].sample(2000*5, random_state=17)\n",
    "              ])\n",
    "\n",
    "name_label_bin = ['clean_photo_good_background',\n",
    "   'clean_photo_other_background',\n",
    "   'clean_photo_bad_background',\n",
    "   'clean_photo_image_background'\n",
    "    ]   \n",
    "for name in name_label_bin:\n",
    "    csv_only_bin = pd.concat([ \n",
    "        csv_only_bin,\n",
    "        frame_for_binary[frame_for_binary.verdict == name].sample(1_500*5, random_state=17)\n",
    "              ])\n",
    "\n",
    "csv_only_bin[\"verdict\"] = csv_only_bin.verdict.progress_apply(lambda x: new_label_name[x])\n",
    "print(csv_only_bin.shape[0])\n",
    "csv_only_bin.to_csv(\"data_for_binary.csv\", index=False)\n",
    "csv_only_bin.head()"
   ]
  },
  {
   "cell_type": "code",
   "execution_count": 161,
   "id": "8ade0881-f257-44fa-b89b-e7daa000b6e8",
   "metadata": {
    "tags": []
   },
   "outputs": [
    {
     "data": {
      "text/plain": [
       "infographics    30000\n",
       "clean_photo     30000\n",
       "Name: verdict, dtype: int64"
      ]
     },
     "execution_count": 161,
     "metadata": {},
     "output_type": "execute_result"
    }
   ],
   "source": [
    "csv_only_bin.verdict.value_counts()"
   ]
  },
  {
   "cell_type": "markdown",
   "id": "95c6d378-71cc-41ca-a5a4-9e6ba6e078b2",
   "metadata": {},
   "source": [
    "#### Формирование выборки только для инфографики"
   ]
  },
  {
   "cell_type": "code",
   "execution_count": 103,
   "id": "b6e0c14f-d07e-4c82-b9bb-99fe1d3dbd10",
   "metadata": {
    "tags": []
   },
   "outputs": [
    {
     "data": {
      "text/plain": [
       "good_infographics     292314\n",
       "other_infographics    215554\n",
       "bad_infographics       49625\n",
       "Name: verdict, dtype: int64"
      ]
     },
     "execution_count": 103,
     "metadata": {},
     "output_type": "execute_result"
    }
   ],
   "source": [
    "only_infgr = correct_links.copy()\n",
    "only_infgr = only_infgr[only_infgr.verdict.isin([\n",
    "   'other_infographics',\n",
    "   'good_infographics',\n",
    "   'bad_infographics'\n",
    "])]\n",
    "only_infgr.verdict.value_counts()"
   ]
  },
  {
   "cell_type": "code",
   "execution_count": 104,
   "id": "3ecab9da-5a8c-4f10-aadb-14cf5170b971",
   "metadata": {
    "tags": []
   },
   "outputs": [],
   "source": [
    "name_label_gr = only_infgr.verdict.unique()\n",
    "csv_only_infgr = pd.DataFrame({\"path\": [], \"verdict\": []})\n",
    "for name in name_label_gr:\n",
    "    csv_only_infgr = pd.concat([ \n",
    "        csv_only_infgr,\n",
    "        only_infgr[only_infgr.verdict == name].sample(10_000, random_state=42)\n",
    "              ])"
   ]
  },
  {
   "cell_type": "code",
   "execution_count": 192,
   "id": "04a56e89-88b0-41e3-81e4-67c38efbe7d8",
   "metadata": {
    "tags": []
   },
   "outputs": [
    {
     "data": {
      "text/plain": [
       "3000.0"
      ]
     },
     "execution_count": 192,
     "metadata": {},
     "output_type": "execute_result"
    }
   ],
   "source": [
    "60_000 / 20"
   ]
  },
  {
   "cell_type": "code",
   "execution_count": 193,
   "id": "f9f2df32-df13-476a-a66b-48ebd3fb0d75",
   "metadata": {
    "tags": []
   },
   "outputs": [
    {
     "data": {
      "text/plain": [
       "66.66666666666667"
      ]
     },
     "execution_count": 193,
     "metadata": {},
     "output_type": "execute_result"
    }
   ],
   "source": [
    "200_000 / 3000.0"
   ]
  },
  {
   "cell_type": "code",
   "execution_count": 105,
   "id": "aa216f40-5024-4e6c-8dbe-a69b73d5e800",
   "metadata": {
    "tags": []
   },
   "outputs": [
    {
     "name": "stdout",
     "output_type": "stream",
     "text": [
      "other_infographics    10000\n",
      "good_infographics     10000\n",
      "bad_infographics      10000\n",
      "Name: verdict, dtype: int64\n"
     ]
    }
   ],
   "source": [
    "print(csv_only_infgr.verdict.value_counts())\n",
    "csv_only_infgr.to_csv(\"data_for_infographics.csv\", index=False)"
   ]
  },
  {
   "cell_type": "markdown",
   "id": "4cb3bbe5-3fc4-4f7a-992c-d8febc24e664",
   "metadata": {},
   "source": [
    "#### Формирование выборки только для фона (чистое фото)"
   ]
  },
  {
   "cell_type": "code",
   "execution_count": 106,
   "id": "d7ad35c1-9a70-4401-8a86-1c49f20a956f",
   "metadata": {
    "tags": []
   },
   "outputs": [
    {
     "data": {
      "text/plain": [
       "clean_photo_good_background     455307\n",
       "clean_photo_other_background     49569\n",
       "clean_photo_bad_background       28093\n",
       "clean_photo_image_background     14507\n",
       "Name: verdict, dtype: int64"
      ]
     },
     "execution_count": 106,
     "metadata": {},
     "output_type": "execute_result"
    }
   ],
   "source": [
    "only_photo = correct_links.copy()\n",
    "only_photo = only_photo[only_photo.verdict.isin([\n",
    "   'clean_photo_good_background',\n",
    "   'clean_photo_other_background',\n",
    "   'clean_photo_bad_background',\n",
    "   'clean_photo_image_background'\n",
    "])]\n",
    "only_photo.verdict.value_counts()"
   ]
  },
  {
   "cell_type": "code",
   "execution_count": 107,
   "id": "e837a37c-f1d1-42d2-b57b-f9bdf87d537b",
   "metadata": {
    "tags": []
   },
   "outputs": [],
   "source": [
    "name_label_ph = only_photo.verdict.unique()\n",
    "csv_only_ph = pd.DataFrame({\"path\": [], \"verdict\": []})\n",
    "for name in name_label_ph:\n",
    "    csv_only_ph = pd.concat([ \n",
    "        csv_only_ph,\n",
    "        only_photo[only_photo.verdict == name].sample(10_000, random_state=42)\n",
    "              ])"
   ]
  },
  {
   "cell_type": "code",
   "execution_count": 108,
   "id": "8effa383-93bd-4861-9637-be0b6a19677b",
   "metadata": {
    "tags": []
   },
   "outputs": [
    {
     "name": "stdout",
     "output_type": "stream",
     "text": [
      "other_infographics    10000\n",
      "good_infographics     10000\n",
      "bad_infographics      10000\n",
      "Name: verdict, dtype: int64\n"
     ]
    }
   ],
   "source": [
    "print(csv_only_infgr.verdict.value_counts())\n",
    "csv_only_ph.to_csv(\"data_for_background.csv\", index=False)"
   ]
  },
  {
   "cell_type": "code",
   "execution_count": 109,
   "id": "7abe25d7-f87d-4ddf-9265-aaccc0154ac0",
   "metadata": {
    "tags": []
   },
   "outputs": [
    {
     "data": {
      "text/plain": [
       "array(['clean_photo_good_background', 'clean_photo_other_background',\n",
       "       'clean_photo_bad_background', 'clean_photo_image_background'],\n",
       "      dtype=object)"
      ]
     },
     "execution_count": 109,
     "metadata": {},
     "output_type": "execute_result"
    }
   ],
   "source": [
    "pd.read_csv(\"data_for_background.csv\").verdict.unique()"
   ]
  },
  {
   "cell_type": "code",
   "execution_count": null,
   "id": "a8c5be7e-6ecf-45bd-a75b-474f70f31f6d",
   "metadata": {
    "tags": []
   },
   "outputs": [
    {
     "data": {
      "text/plain": [
       "array(['other_infographics', 'good_infographics', 'bad_infographics'],\n",
       "      dtype=object)"
      ]
     },
     "execution_count": 110,
     "metadata": {},
     "output_type": "execute_result"
    }
   ],
   "source": [
    "pd.read_csv(\"data_for_infographics.csv\").verdict.unique()"
   ]
  }
 ],
 "metadata": {
  "kernelspec": {
   "display_name": "Python 3 (ipykernel)",
   "language": "python",
   "name": "python3"
  },
  "language_info": {
   "codemirror_mode": {
    "name": "ipython",
    "version": 3
   },
   "file_extension": ".py",
   "mimetype": "text/x-python",
   "name": "python",
   "nbconvert_exporter": "python",
   "pygments_lexer": "ipython3",
   "version": "3.10.12"
  }
 },
 "nbformat": 4,
 "nbformat_minor": 5
}
